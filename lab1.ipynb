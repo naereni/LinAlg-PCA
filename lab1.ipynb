{
 "cells": [
  {
   "cell_type": "code",
   "execution_count": 1,
   "metadata": {},
   "outputs": [],
   "source": [
    "import math\n",
    "import nampy as np"
   ]
  },
  {
   "cell_type": "code",
   "execution_count": 2,
   "metadata": {},
   "outputs": [],
   "source": [
    "def gauss_solver(A: np.array, b: np.array) -> [np.array]:\n",
    "    \"\"\"\n",
    "    Решает систему линейных уравнений Ax = b методом Гаусса, используя np.Matrix.\n",
    "\n",
    "    Вход:\n",
    "        A: матрица коэффициентов (n*m) numpy array или np.Matrix\n",
    "        b: вектор правых частей (n*1) numpy array или np.Matrix\n",
    "    Выход:\n",
    "        [np.array]: Список векторов np.Matrix, образующих решение.\n",
    "                          - Если решение единственное: [решение]\n",
    "                          - Если решений бесконечно: [частное_решение, базис_ФСР_1, базис_ФСР_2, ...]\n",
    "    Raises:\n",
    "        ValueError: если система несовместна\n",
    "    \"\"\"\n",
    "\n",
    "    rows, cols = A.shape\n",
    "    if rows != b.shape[0]:\n",
    "        raise ValueError(f\"Размерности не совпадают: A({A.shape}), b({b.shape})\")\n",
    "\n",
    "    Ab = np.hstack([A, b])\n",
    "\n",
    "    pivot_row = 0\n",
    "    pivot_cols = []\n",
    "\n",
    "    # Приведение к ступенчатому виду\n",
    "    for j in range(cols):\n",
    "        if pivot_row >= rows:\n",
    "            break\n",
    "\n",
    "        # Поиск максимального элемента в столбце j ниже pivot_row (для устойчивости)\n",
    "        max_row = pivot_row\n",
    "        for i in range(pivot_row + 1, rows):\n",
    "            if abs(Ab[i, j]) > abs(Ab[max_row, j]):\n",
    "                max_row = i\n",
    "        Ab.swap(pivot_row, max_row)\n",
    "\n",
    "        # Проверка на нулевой ведущий элемент\n",
    "        pivot_val = Ab[pivot_row, j]\n",
    "        if abs(pivot_val) < np.EPS:\n",
    "            continue  # Переходим к следующему столбцу\n",
    "\n",
    "        pivot_cols.append(j)\n",
    "\n",
    "        # Нормализация ведущей строки\n",
    "        Ab.div(pivot_row, pivot_val)\n",
    "\n",
    "        # Обнуление элементов под ведущим элементом\n",
    "        for i in range(rows):\n",
    "            if i != pivot_row:\n",
    "                factor = Ab[i, j]\n",
    "                Ab.comb_rows(i, pivot_row, -factor)\n",
    "\n",
    "        pivot_row += 1\n",
    "\n",
    "    # Проверка на несовместность\n",
    "    for i in range(pivot_row, rows):\n",
    "        if abs(Ab[i, cols]) > np.EPS:  # cols - индекс столбца b в Ab\n",
    "            raise ValueError(\"Система несовместна (нет решений)\")\n",
    "\n",
    "    rank = len(pivot_cols)\n",
    "\n",
    "    # Обратный ход и формирование решения\n",
    "\n",
    "    # 1. Единственное решение\n",
    "    if rank == cols:\n",
    "        solution = np.zeros((cols, 1))\n",
    "        for i in range(rank - 1, -1, -1):\n",
    "            pivot_col_idx = pivot_cols[i]\n",
    "            # Значение из столбца b\n",
    "            val = Ab[i, cols]\n",
    "            # Вычитаем известные значения (произведения коэффициентов на уже найденные переменные)\n",
    "            for k in range(pivot_col_idx + 1, cols):\n",
    "                val -= Ab[i, k] * solution[k, 0]\n",
    "            solution[pivot_col_idx, 0] = val\n",
    "        return [solution]\n",
    "\n",
    "    # 2. Бесконечно много решений\n",
    "    elif rank < cols:\n",
    "        free_vars_indices = [j for j in range(cols) if j not in pivot_cols]\n",
    "\n",
    "        # Находим частное решение (приравниваем свободные переменные к 0)\n",
    "        particular_solution = np.zeros((cols, 1))\n",
    "        for i in range(rank - 1, -1, -1):\n",
    "            pivot_col_idx = pivot_cols[i]\n",
    "            val = Ab[i, cols]  # Значение из столбца b\n",
    "            for k in range(pivot_col_idx + 1, cols):\n",
    "                # Учитываем только базисные переменные, т.к. свободные = 0\n",
    "                if k not in free_vars_indices:\n",
    "                    val -= Ab[i, k] * particular_solution[k, 0]\n",
    "            particular_solution[pivot_col_idx, 0] = val\n",
    "\n",
    "        # Находим базис ФСР (Фундаментальной Системы Решений)\n",
    "        fsr_basis = []\n",
    "        for free_idx in free_vars_indices:\n",
    "            basis_vector = np.zeros((cols, 1))\n",
    "            basis_vector[free_idx, 0] = 1  # Одну свободную переменную делаем 1\n",
    "\n",
    "            # Решаем однородную систему для базисных переменных\n",
    "            for i in range(rank - 1, -1, -1):\n",
    "                pivot_col_idx = pivot_cols[i]\n",
    "                # Ищем значение для базисной переменной x_pivot_col_idx\n",
    "                # Сумма по k: Ab[i, k] * basis_vector[k, 0] = 0\n",
    "                # Ab[i, pivot_col_idx]*x + Sum(Ab[i, k]*basis_vector[k, 0] for k > pivot_col_idx) = 0\n",
    "                # Поскольку Ab[i, pivot_col_idx] == 1 после нормализации:\n",
    "                # x = - Sum(Ab[i, k]*basis_vector[k, 0] for k > pivot_col_idx)\n",
    "                val = 0\n",
    "                for k in range(pivot_col_idx + 1, cols):\n",
    "                    val -= Ab[i, k] * basis_vector[k, 0]\n",
    "                basis_vector[pivot_col_idx, 0] = val\n",
    "            fsr_basis.append(basis_vector)\n",
    "\n",
    "        return [particular_solution] + fsr_basis"
   ]
  },
  {
   "cell_type": "code",
   "execution_count": 3,
   "metadata": {},
   "outputs": [
    {
     "name": "stdout",
     "output_type": "stream",
     "text": [
      "Case 1:\n",
      "[ -1.0000]\n",
      "[  1.0000]\n",
      "[  3.0000]\n",
      "\n",
      "Case 2:\n",
      "[ -0.3333]\n",
      "[  0.6667]\n",
      "[       0]\n",
      "[  1.0000]\n",
      "[ -2.0000]\n",
      "[       1]\n",
      "\n",
      "Case 3:\n",
      "[  2.0000]\n",
      "[  3.0000]\n",
      "[ -1.0000]\n",
      "\n",
      "Case 4:\n",
      "Система несовместна (нет решений)\n"
     ]
    }
   ],
   "source": [
    "A = np.array([[2, 1, 1], [1, -1, 0], [3, -1, 2]])\n",
    "b = np.array([2, -2, 2]).T\n",
    "print(\"Case 1:\")\n",
    "try:\n",
    "    solution = gauss_solver(A, b)\n",
    "    for vec in solution:\n",
    "        print(vec)\n",
    "except ValueError as e:\n",
    "    print(e)\n",
    "\n",
    "A = np.array([[1, 2, 3], [4, 5, 6], [7, 8, 9]])\n",
    "b = np.array([[1], [2], [3]])\n",
    "print(\"\\nCase 2:\")\n",
    "try:\n",
    "    solutions = gauss_solver(A, b)\n",
    "    for sol in solutions:\n",
    "        print(sol)\n",
    "except ValueError as e:\n",
    "    print(e)\n",
    "\n",
    "A = np.array([[2, 1, -1], [-3, -1, 2], [-2, 1, 2]])\n",
    "b = np.array([[8], [-11], [-3]])\n",
    "print(\"\\nCase 3:\")\n",
    "try:\n",
    "    solutions = gauss_solver(A, b)\n",
    "    for sol in solutions:\n",
    "        print(sol)  # Ожидаемый ответ: [[2.], [3.], [-1.]]\n",
    "except ValueError as e:\n",
    "    print(e)\n",
    "\n",
    "A = np.array([[1, 1], [1, 1]])\n",
    "b = np.array([[1], [2]])\n",
    "print(\"\\nCase 4:\")\n",
    "try:\n",
    "    solutions = gauss_solver(A, b)\n",
    "    for sol in solutions:\n",
    "        print(sol)\n",
    "except ValueError as e:\n",
    "    print(e)"
   ]
  },
  {
   "cell_type": "code",
   "execution_count": 20,
   "metadata": {},
   "outputs": [
    {
     "name": "stdout",
     "output_type": "stream",
     "text": [
      "[ -3.0000  -3.0000  -3.0000]\n",
      "[  0.0000   0.0000   0.0000]\n",
      "[  3.0000   3.0000   3.0000]\n"
     ]
    }
   ],
   "source": [
    "def center_data(X: np.Matrix) -> np.Matrix:\n",
    "    \"\"\"\n",
    "    Вход: матрица данных X (n*m)\n",
    "    Выход: центрированная матрица X_centered (n*m)\n",
    "    \"\"\"\n",
    "    mean_m = np.array([np.mean(X, axis=0)] * X.shape[0])\n",
    "    return X - mean_m\n",
    "\n",
    "\n",
    "q = np.array([[1, 2, 3], [4, 5, 6], [7, 8, 9]])\n",
    "print(center_data(q))"
   ]
  },
  {
   "cell_type": "code",
   "execution_count": null,
   "metadata": {},
   "outputs": [
    {
     "data": {
      "text/plain": [
       "[  9.0000   9.0000   9.0000]\n",
       "[  9.0000   9.0000   9.0000]\n",
       "[  9.0000   9.0000   9.0000]"
      ]
     },
     "execution_count": 23,
     "metadata": {},
     "output_type": "execute_result"
    }
   ],
   "source": [
    "def covariance_matrix(X: np.array) -> np.array:\n",
    "    \"\"\"\n",
    "    Вход: центрированная матрица X (n*m)\n",
    "    Выход: матрица ковариаций C (m*m)\n",
    "    \"\"\"\n",
    "    return (1 / (X.shape[0] - 1)) * (X.T @ X)\n",
    "\n",
    "\n",
    "covariance_matrix(center_data(q))"
   ]
  },
  {
   "cell_type": "code",
   "execution_count": 6,
   "metadata": {},
   "outputs": [],
   "source": [
    "def find_eigenvalues(C: np.array, tol: float = 1e-6) -> [float]:\n",
    "    \"\"\"\n",
    "    Вход:\n",
    "    C: матрица ковариаций (m*m)\n",
    "    tol: допустимая погрешность\n",
    "    Выход: список вещественных собственных значений\n",
    "    \"\"\"\n",
    "    pass"
   ]
  },
  {
   "cell_type": "code",
   "execution_count": 7,
   "metadata": {},
   "outputs": [],
   "source": [
    "def find_eigenvectors(C: np.array, eigenvalues: [float]) -> [np.array]:\n",
    "    \"\"\"\n",
    "    Вход:\n",
    "    C: матрица ковариаций (m*m)\n",
    "    eigenvalues: список собственных значений\n",
    "    Выход: список собственных векторов (каждый вектор - объект Matrix)\n",
    "    \"\"\"\n",
    "    pass"
   ]
  },
  {
   "cell_type": "code",
   "execution_count": 8,
   "metadata": {},
   "outputs": [],
   "source": [
    "def explained_variance_ratio(eigenvalues: [float], k: int) -> float:\n",
    "    \"\"\"\n",
    "    Вход:\n",
    "    eigenvalues: список собственных значений\n",
    "    k: число компонент\n",
    "    Выход: доля объяснённой дисперсии\n",
    "    \"\"\"\n",
    "    pass"
   ]
  },
  {
   "cell_type": "code",
   "execution_count": 9,
   "metadata": {},
   "outputs": [],
   "source": [
    "def pca(X: np.array, k: int) -> [np.array, float]:\n",
    "    \"\"\"\n",
    "    Вход:\n",
    "    X: матрица данных (n*m)\n",
    "    k: число главных компонент\n",
    "    Выход:\n",
    "    X_proj: проекция данных (n*k)\n",
    "    : доля объяснённой дисперсии\n",
    "    \"\"\"\n",
    "    pass"
   ]
  },
  {
   "cell_type": "code",
   "execution_count": 10,
   "metadata": {},
   "outputs": [],
   "source": [
    "from matplotlib.figure import Figure\n",
    "\n",
    "\n",
    "def plot_pca_projection(X_proj: np.array) -> Figure:\n",
    "    \"\"\"\n",
    "    Вход: проекция данных X_proj (n*2)\n",
    "    Выход: объект Figure из Matplotlib\n",
    "    \"\"\"\n",
    "    pass"
   ]
  },
  {
   "cell_type": "code",
   "execution_count": 11,
   "metadata": {},
   "outputs": [],
   "source": [
    "def reconstruction_error(X_orig: np.array, X_recon: np.array) -> float:\n",
    "    \"\"\"\n",
    "    Вход:\n",
    "    X_orig: исходные данные (n*m)\n",
    "    X_recon: восстановленные данные (n*m)\n",
    "    Выход: среднеквадратическая ошибка MSE\n",
    "    \"\"\"\n",
    "    pass"
   ]
  },
  {
   "cell_type": "code",
   "execution_count": 12,
   "metadata": {},
   "outputs": [],
   "source": [
    "def auto_select_k(eigenvalues: [float], threshold: float = 0.95) -> int:\n",
    "    \"\"\"\n",
    "    Вход:\n",
    "    eigenvalues: список собственных значений\n",
    "    threshold: порог объяснённой дисперсии\n",
    "    Выход: оптимальное число главных компонент k\n",
    "    \"\"\"\n",
    "    pass"
   ]
  },
  {
   "cell_type": "code",
   "execution_count": 13,
   "metadata": {},
   "outputs": [],
   "source": [
    "def handle_missing_values(X: np.array) -> np.array:\n",
    "    \"\"\"\n",
    "    Вход: матрица данных X (n*m) с возможными NaN\n",
    "    Выход: матрица данных X_filled (n*m) без NaN\n",
    "    \"\"\"\n",
    "    pass"
   ]
  },
  {
   "cell_type": "code",
   "execution_count": 14,
   "metadata": {},
   "outputs": [],
   "source": [
    "def add_noise_and_compare(X: np.array, noise_level: float = 0.1):\n",
    "    \"\"\"\n",
    "    Вход:\n",
    "    X: матрица данных (n*m)\n",
    "    noise_level: уровень шума (доля от стандартного отклонения)\n",
    "    Выход: результаты PCA до и после добавления шума.\n",
    "    В этом задании можете проявить творческие способности, поэтому выходные данные не\n",
    "    →\n",
    "    типизированы.\n",
    "    \"\"\"\n",
    "    pass"
   ]
  },
  {
   "cell_type": "code",
   "execution_count": 15,
   "metadata": {},
   "outputs": [],
   "source": [
    "# def apply_pca_to_dataset(dataset_name: str, k: int) -> [np.array, float]:\n",
    "#     \"\"\"\n",
    "#     Вход:\n",
    "#     dataset_name: название датасета\n",
    "#     k: число главных компонент\n",
    "#     Выход: кортеж (проекция данных, качество модели)\n",
    "#     \"\"\"\n",
    "#     pass"
   ]
  }
 ],
 "metadata": {
  "kernelspec": {
   "display_name": ".venv",
   "language": "python",
   "name": "python3"
  },
  "language_info": {
   "codemirror_mode": {
    "name": "ipython",
    "version": 3
   },
   "file_extension": ".py",
   "mimetype": "text/x-python",
   "name": "python",
   "nbconvert_exporter": "python",
   "pygments_lexer": "ipython3",
   "version": "3.13.3"
  }
 },
 "nbformat": 4,
 "nbformat_minor": 2
}
