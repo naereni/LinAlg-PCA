{
 "cells": [
  {
   "cell_type": "markdown",
   "metadata": {},
   "source": [
    "## Теор задание\n"
   ]
  },
  {
   "cell_type": "markdown",
   "metadata": {},
   "source": [
    "### 1. PCA\n",
    "Метод главных компонент направлен на снижение размерности данных путем нахождения такого направления в многомерном пространстве, вдоль которого дисперсия проекций объектов достигает максимума. Формально, для заданного набора точек в $ \\mathbb{R}^n $ ищется прямая, максимизирующая разброс данных при проектировании на нее. Этот разброс количественно выражается через дисперсию.\n",
    "\n",
    "\n",
    "### 2. Роль ковариационной матрицы\n",
    "Ковариационная матрица $ \\Sigma $ описывает структуру вариации данных во всех возможных направлениях. Для произвольного единичного вектора $ \\mathbf{w} $ (т.е. $ \\|\\mathbf{w}\\| = 1 $), задающего направление, дисперсия проекций точек на это направление определяется выражением:\n",
    "$$\n",
    "D = \\mathbf{w}^{\\top} \\Sigma \\mathbf{w}.\n",
    "$$\n",
    "Таким образом, задача PCA сводится к поиску $ \\mathbf{w} $, максимизирующего данную квадратичную форму при указанном ограничении на норму.\n",
    "\n",
    "\n",
    "### 3. Собственные векторы и собственные значения\n",
    "Ковариационная матрица $ \\Sigma $ является симметричной и положительно полуопределенной, что гарантирует существование ортонормированного базиса из собственных векторов. Для каждого собственного вектора $ \\mathbf{v}_k $ выполняется:\n",
    "$$\n",
    "\\Sigma \\mathbf{v}_k = \\lambda_k \\mathbf{v}_k,\n",
    "$$\n",
    "где $ \\lambda_k $ — соответствующее собственное значение, характеризующее масштаб преобразования вдоль направления $ \\mathbf{v}_k $. Собственные значения $ \\lambda_k $ упорядочиваются по убыванию: $ \\lambda_1 \\geq \\lambda_2 \\geq \\dots \\geq \\lambda_n $.\n",
    "\n",
    "\n",
    "### 4. Первая главная компонента\n",
    "Первая главная компонента определяется направлением, максимизирующим дисперсию. Рассмотрим задачу оптимизации:\n",
    "$$\n",
    "\\max_{\\mathbf{w}} \\mathbf{w}^{\\top} \\Sigma \\mathbf{w}, \\quad \\text{при} \\quad \\|\\mathbf{w}\\| = 1.\n",
    "$$\n",
    "Любой единичный вектор $ \\mathbf{w} $ можно представить в виде линейной комбинации собственных векторов $ \\mathbf{v}_k $:\n",
    "$$\n",
    "\\mathbf{w} = \\sum_{k} a_k \\mathbf{v}_k, \\quad \\text{где} \\quad \\sum_{k} a_k^2 = 1.\n",
    "$$\n",
    "Подставляя это в выражение для дисперсии и учитывая ортогональность собственных векторов, получаем:\n",
    "$$\n",
    "\\mathbf{w}^{\\top} \\Sigma \\mathbf{w} = \\left( \\sum_{k} a_k \\mathbf{v}_k \\right)^{\\top} \\Sigma \\left( \\sum_{j} a_j \\mathbf{v}_j \\right) = \\sum_{k} a_k^2 \\lambda_k.\n",
    "$$\n",
    "Так как $ \\sum_{k} a_k^2 = 1 $, значение $ \\sum_{k} a_k^2 \\lambda_k $ достигает максимума, равного $ \\lambda_1 $ (наибольшему собственному значению), когда $ a_1 = 1 $, а все остальные $ a_k = 0 $ (для $ k \\neq 1 $). Следовательно, $ \\mathbf{w} = \\mathbf{v}_1 $, где $ \\mathbf{v}_1 $ — собственный вектор, соответствующий $ \\lambda_1 $.\n",
    "\n",
    "\n",
    "### 5. Последующие главные компоненты\n",
    "Вторая главная компонента ищется в подпространстве, ортогональном к $ \\mathbf{v}_1 $, путем решения аналогичной задачи максимизации дисперсии в этом подпространстве. Решением оказывается собственный вектор $ \\mathbf{v}_2 $, соответствующий второму по величине собственному значению $ \\lambda_2 $. Процесс продолжается рекурсивно: каждая последующая компонента $ \\mathbf{v}_k $ ортогональна предыдущим и соответствует $ \\lambda_k $, где $ k $ увеличивается по мере убывания $ \\lambda_k $."
   ]
  },
  {
   "cell_type": "markdown",
   "metadata": {},
   "source": [
    "## Dummy"
   ]
  },
  {
   "cell_type": "code",
   "execution_count": 1,
   "metadata": {},
   "outputs": [],
   "source": [
    "import math\n",
    "import random\n",
    "import nampy as np"
   ]
  },
  {
   "cell_type": "markdown",
   "metadata": {},
   "source": [
    "\n",
    "### Гаусс"
   ]
  },
  {
   "cell_type": "code",
   "execution_count": 2,
   "metadata": {},
   "outputs": [],
   "source": [
    "def gauss_solver(A: np.array, b: np.array) -> np.array:\n",
    "    rows, cols = A.shape\n",
    "    if rows != b.shape[0]:\n",
    "        raise ValueError(f\"Размерности не совпадают: A({A.shape}), b({b.shape})\")\n",
    "\n",
    "    Ab = np.hstack([A, b])\n",
    "\n",
    "    pivot_row = 0\n",
    "    pivot_cols = []\n",
    "\n",
    "    # Приведение к ступенчатому виду\n",
    "    for j in range(cols):\n",
    "        if pivot_row >= rows:\n",
    "            break\n",
    "\n",
    "        # Поиск максимального элемента в столбце j ниже pivot_row\n",
    "        max_row = pivot_row\n",
    "        for i in range(pivot_row + 1, rows):\n",
    "            if abs(Ab[i, j]) > abs(Ab[max_row, j]):\n",
    "                max_row = i\n",
    "        Ab.swap(pivot_row, max_row)\n",
    "\n",
    "        pivot_val = Ab[pivot_row, j]\n",
    "        if abs(pivot_val) < np.EPS:\n",
    "            continue\n",
    "\n",
    "        pivot_cols.append(j)\n",
    "\n",
    "        Ab.div(pivot_row, pivot_val)\n",
    "\n",
    "        # Обнуление элементов под ведущим элементом\n",
    "        for i in range(rows):\n",
    "            if i != pivot_row:\n",
    "                factor = Ab[i, j]\n",
    "                Ab.comb_rows(i, pivot_row, -factor)\n",
    "\n",
    "        pivot_row += 1\n",
    "\n",
    "    # Проверка на несовместность\n",
    "    for i in range(pivot_row, rows):\n",
    "        if abs(Ab[i, cols]) > np.EPS:\n",
    "            raise ValueError(\"Система несовместна\")\n",
    "\n",
    "    rank = len(pivot_cols)\n",
    "\n",
    "    # Единственное решение\n",
    "    if rank == cols:\n",
    "        solution = np.zeros((cols, 1))\n",
    "        for i in range(rank - 1, -1, -1):\n",
    "            pivot_col_idx = pivot_cols[i]\n",
    "            val = Ab[i, cols]\n",
    "            for k in range(pivot_col_idx + 1, cols):\n",
    "                val -= Ab[i, k] * solution[k, 0]\n",
    "            solution[pivot_col_idx, 0] = val\n",
    "        return [np.array(solution.T)]\n",
    "\n",
    "    # Бесконечно много решений\n",
    "    elif rank < cols:\n",
    "        # print(f\"WARNING: для матрицы \\n{A}\\nвозвращается ФСР\")\n",
    "        free_vars_indices = [j for j in range(cols) if j not in pivot_cols]\n",
    "\n",
    "        fsr_basis = []\n",
    "        for _, free_idx in enumerate(free_vars_indices):\n",
    "            basis_vector = np.zeros((cols, 1))\n",
    "\n",
    "            # Устанавливаем текущую свободную переменную в 1, остальные свободные остаются 0\n",
    "            basis_vector[free_idx, 0] = 1\n",
    "\n",
    "            for j in range(rank - 1, -1, -1):\n",
    "                pivot_col_idx = pivot_cols[j]\n",
    "                val = 0\n",
    "                for k in range(pivot_col_idx + 1, cols):\n",
    "                    val -= Ab[j, k] * basis_vector[k, 0]\n",
    "                basis_vector[pivot_col_idx, 0] = val\n",
    "\n",
    "            fsr_basis.append(basis_vector.T)\n",
    "\n",
    "        return fsr_basis"
   ]
  },
  {
   "cell_type": "code",
   "execution_count": 3,
   "metadata": {},
   "outputs": [
    {
     "name": "stdout",
     "output_type": "stream",
     "text": [
      "Case 1:\n",
      "[[ -1.0000   1.0000   3.0000]]\n",
      "\n",
      "Case 2:\n",
      "[[  1.0000  -2.0000   1.0000]]\n",
      "\n",
      "Case 3:\n",
      "[[  2.0000   3.0000  -1.0000]]\n",
      "\n",
      "Case 4:\n",
      "Система несовместна\n",
      "\n",
      "Case 5:\n",
      "[[ -1.0000   1.0000   0.0000], [ -1.0000   0.0000   1.0000]]\n"
     ]
    }
   ],
   "source": [
    "A = np.array([[2, 1, 1], [1, -1, 0], [3, -1, 2]])\n",
    "b = np.array([2, -2, 2]).T\n",
    "print(\"Case 1:\")\n",
    "sol = gauss_solver(A, b)\n",
    "print(sol)\n",
    "\n",
    "A = np.array([[1, 2, 3], [4, 5, 6], [7, 8, 9]])\n",
    "b = np.array([[1], [2], [3]])\n",
    "print(\"\\nCase 2:\")\n",
    "sol = gauss_solver(A, b)\n",
    "print(sol)\n",
    "\n",
    "\n",
    "A = np.array([[2, 1, -1], [-3, -1, 2], [-2, 1, 2]])\n",
    "b = np.array([[8], [-11], [-3]])\n",
    "print(\"\\nCase 3:\")\n",
    "sol = gauss_solver(A, b)\n",
    "print(sol)\n",
    "\n",
    "\n",
    "A = np.array([[1, 1], [1, 1]])\n",
    "b = np.array([[1], [2]])\n",
    "print(\"\\nCase 4:\")\n",
    "try:\n",
    "    sols = gauss_solver(A, b)\n",
    "    print(sols)\n",
    "except ValueError as e:\n",
    "    print(e)\n",
    "\n",
    "A = np.array([[1, 1, 1], [2, 2, 2]])\n",
    "b = np.array([3, 6]).T\n",
    "print(\"\\nCase 5:\")\n",
    "sol = gauss_solver(A, b)\n",
    "print(sol)"
   ]
  },
  {
   "cell_type": "markdown",
   "metadata": {},
   "source": [
    "### Ну и так нормально получилось"
   ]
  },
  {
   "cell_type": "code",
   "execution_count": 4,
   "metadata": {},
   "outputs": [
    {
     "name": "stdout",
     "output_type": "stream",
     "text": [
      "[ -2.2500  -2.7500  -2.7500]\n",
      "[  0.7500   0.2500   0.2500]\n",
      "[  3.7500   3.2500   3.2500]\n",
      "[ -2.2500  -0.7500  -0.7500]\n"
     ]
    }
   ],
   "source": [
    "def center_data(X: np.array) -> np.array:\n",
    "    \"\"\"\n",
    "    Вход: матрица данных X (n*m)\n",
    "    Выход: центрированная матрица X_centered (n*m)\n",
    "    \"\"\"\n",
    "    mean = np.array([[np.mean(X[:, i]) for i in range(X.shape[1])]] * X.shape[0])\n",
    "    return X - mean\n",
    "\n",
    "\n",
    "q = np.array([[1, 2, 3], [4, 5, 6], [7, 8, 9], [1, 4, 5]])\n",
    "print(center_data(q))"
   ]
  },
  {
   "cell_type": "code",
   "execution_count": 5,
   "metadata": {},
   "outputs": [
    {
     "data": {
      "text/plain": [
       "[  8.2500   6.7500   6.7500]\n",
       "[  6.7500   6.2500   6.2500]\n",
       "[  6.7500   6.2500   6.2500]"
      ]
     },
     "execution_count": 5,
     "metadata": {},
     "output_type": "execute_result"
    }
   ],
   "source": [
    "def covariance_matrix(X: np.array) -> np.array:\n",
    "    \"\"\"\n",
    "    Вход: центрированная матрица X (n*m)\n",
    "    Выход: матрица ковариаций C (m*m)\n",
    "    \"\"\"\n",
    "    return (1 / (X.shape[0] - 1)) * (X.T @ X)\n",
    "\n",
    "\n",
    "С = covariance_matrix(center_data(q))\n",
    "С"
   ]
  },
  {
   "cell_type": "markdown",
   "metadata": {},
   "source": [
    "### Eigen\n"
   ]
  },
  {
   "cell_type": "code",
   "execution_count": 6,
   "metadata": {},
   "outputs": [],
   "source": [
    "def gershgorin_interval(C: np.array, eps: float = np.EPS) -> [float, float]:\n",
    "    rows, cols = C.shape\n",
    "\n",
    "    min_bound = np.INF\n",
    "    max_bound = np.NINF\n",
    "\n",
    "    for i in range(rows):\n",
    "        diagonal_element = C[i, i]\n",
    "        radius = 0\n",
    "        for j in range(cols):\n",
    "            if i != j:\n",
    "                radius += abs(C[i, j])\n",
    "\n",
    "        lower_i = diagonal_element - radius\n",
    "        upper_i = diagonal_element + radius\n",
    "\n",
    "        if lower_i < min_bound:\n",
    "            min_bound = lower_i\n",
    "        if upper_i > max_bound:\n",
    "            max_bound = upper_i\n",
    "\n",
    "    return min_bound - eps, max_bound + eps\n",
    "\n",
    "\n",
    "def direct_det_func(C: np.array, x: float) -> float:\n",
    "    \"\"\"\n",
    "    Вычисляет значение характеристического полинома det(C - xI)\n",
    "    \"\"\"\n",
    "\n",
    "    C_xI = C - np.eye(C.shape[0]) * x\n",
    "    return C_xI.det\n",
    "\n",
    "\n",
    "def find_all_roots(func, a, b, step: float = 0.01, tol: float = np.EPS) -> [float]:\n",
    "    \"\"\"\n",
    "    Находит все корни функции func на интервале [a, b] методом деления отрезка пополам\n",
    "    \"\"\"\n",
    "    roots = []\n",
    "    x1 = a\n",
    "    f1 = func(x1)\n",
    "\n",
    "    if abs(f1) < tol:\n",
    "        roots.append(x1)\n",
    "\n",
    "    while x1 < b:\n",
    "        x2 = min(x1 + step, b)\n",
    "        f2 = func(x2)\n",
    "\n",
    "        if abs(f2) < tol and abs(x2 - b) > tol:\n",
    "            roots.append(x2)\n",
    "\n",
    "        # Проверяем смену знака\n",
    "        if f1 * f2 < 0:\n",
    "            low = x1\n",
    "            high = x2\n",
    "            val_low = f1\n",
    "\n",
    "            # Итерации бисекции\n",
    "            while (high - low) / 2.0 > tol:\n",
    "                mid = (low + high) / 2.0\n",
    "                val_mid = func(mid)\n",
    "\n",
    "                if abs(val_mid) < tol:\n",
    "                    low = mid\n",
    "                    high = mid\n",
    "                    break\n",
    "\n",
    "                if val_low * val_mid < 0:\n",
    "                    high = mid\n",
    "                else:\n",
    "                    low = mid\n",
    "                    val_low = val_mid\n",
    "\n",
    "            found_root = (low + high) / 2.0\n",
    "\n",
    "            is_duplicate = False\n",
    "            for root in roots:\n",
    "                if abs(root - found_root) < tol:\n",
    "                    is_duplicate = True\n",
    "                    break\n",
    "\n",
    "            if not is_duplicate:\n",
    "                roots.append(found_root)\n",
    "\n",
    "        # Проверка на кратные корни\n",
    "        elif abs(f1) < tol * 10 or abs(f2) < tol * 10:\n",
    "            num_checks = 10\n",
    "            sub_step = (x2 - x1) / num_checks\n",
    "            for i in range(1, num_checks):\n",
    "                x_check = x1 + i * sub_step\n",
    "                f_check = func(x_check)\n",
    "                if abs(f_check) < tol:\n",
    "                    is_duplicate = False\n",
    "                    for root in roots:\n",
    "                        if abs(root - x_check) < tol:\n",
    "                            is_duplicate = True\n",
    "                            break\n",
    "                    if not is_duplicate:\n",
    "                        roots.append(x_check)\n",
    "\n",
    "        x1 = x2\n",
    "        f1 = f2\n",
    "\n",
    "    # Проверяем, является ли конечная точка интервала корнем\n",
    "    if abs(func(b)) < tol:\n",
    "        is_duplicate = False\n",
    "        for root in roots:\n",
    "            if abs(root - b) < tol:\n",
    "                is_duplicate = True\n",
    "                break\n",
    "        if not is_duplicate:\n",
    "            roots.append(b)\n",
    "\n",
    "    # Сортируем корни\n",
    "    roots.sort(reverse=True)\n",
    "    return roots"
   ]
  },
  {
   "cell_type": "code",
   "execution_count": 7,
   "metadata": {},
   "outputs": [
    {
     "name": "stdout",
     "output_type": "stream",
     "text": [
      "-7.0000000001 8.0000000001\n",
      "[  3.0000   2.0000]\n"
     ]
    }
   ],
   "source": [
    "def find_eigenvalues(C: np.array, tol: float = np.EPS) -> [float]:\n",
    "    a, b = gershgorin_interval(C)\n",
    "    print(a, b)\n",
    "\n",
    "    def characteristic_polynomial(x: float) -> float:\n",
    "        return direct_det_func(C, x)\n",
    "\n",
    "    roots = find_all_roots(\n",
    "        characteristic_polynomial, a, b, step=(b - a) / 10000, tol=tol\n",
    "    )\n",
    "    return roots\n",
    "\n",
    "\n",
    "# C = np.array([[5, 6, 3], [-1, 0, 1], [1, 2, -1]])\n",
    "# C = np.array([[4,1], [1,2]])\n",
    "C = np.array([[-1, -6], [2, 6]])\n",
    "# C = np.array([[5, -1, -1], [0, 4, -1], [0, -1, 4]])\n",
    "eigenvalues = np.clip(np.array(find_eigenvalues(C)))\n",
    "print(eigenvalues)"
   ]
  },
  {
   "cell_type": "code",
   "execution_count": 8,
   "metadata": {},
   "outputs": [
    {
     "name": "stdout",
     "output_type": "stream",
     "text": [
      "[[ -1.5000   1.0000]]\n",
      "[[ -2.0000   1.0000]]\n"
     ]
    }
   ],
   "source": [
    "def find_eigenvectors(C: np.array, eigenvalues: [float]) -> [np.array]:\n",
    "    eigenvectors = []\n",
    "    n = C.shape[0]\n",
    "    I = np.eye(n)\n",
    "    for lambada in eigenvalues:\n",
    "        A = C - (lambada * I)\n",
    "\n",
    "        x = gauss_solver(A, np.zeros((n, 1)))\n",
    "\n",
    "        eigenvectors.append(x)\n",
    "    return eigenvectors\n",
    "\n",
    "\n",
    "eigenvectors = find_eigenvectors(C, eigenvalues)\n",
    "for eig in eigenvectors:\n",
    "    print(eig)"
   ]
  },
  {
   "cell_type": "code",
   "execution_count": 9,
   "metadata": {},
   "outputs": [],
   "source": [
    "def explained_variance_ratio(eigenvalues: [float], k: int) -> float:\n",
    "    if not eigenvalues:\n",
    "        raise ValueError(\"Eigenvalues array cannot be empty\")\n",
    "    if k <= 0:\n",
    "        raise ValueError(\"k must be positive\")\n",
    "    if k > len(eigenvalues):\n",
    "        raise ValueError(\"k cannot be greater than number of eigenvalues\")\n",
    "    if sum(eigenvalues) == 0:\n",
    "        raise ValueError(\"Sum of eigenvalues cannot be zero\")\n",
    "\n",
    "    eigenvalues.sort(reverse=True)\n",
    "    return sum(eigenvalues[:k]) / sum(eigenvalues)"
   ]
  },
  {
   "cell_type": "markdown",
   "metadata": {},
   "source": [
    "### Expert"
   ]
  },
  {
   "cell_type": "code",
   "execution_count": 10,
   "metadata": {},
   "outputs": [],
   "source": [
    "def auto_select_k(eigenvalues: [float], threshold: float = 0.95) -> int:\n",
    "    m = len(eigenvalues)\n",
    "    eigenvalues.sort(reverse=True)\n",
    "    if m == 0:\n",
    "        raise ValueError(\"Eigenvalues array cannot be empty\")\n",
    "\n",
    "    total = sum(eigenvalues)\n",
    "    if abs(total) < np.EPS:\n",
    "        raise ValueError(\"Сумма собственных значений близка к 0, нельзя разделить\")\n",
    "\n",
    "    cumulative = 0.0\n",
    "    for i, val in enumerate(eigenvalues, start=1):\n",
    "        cumulative += val\n",
    "        ratio = cumulative / total\n",
    "        if ratio >= threshold:\n",
    "            return i\n",
    "\n",
    "    return m"
   ]
  },
  {
   "cell_type": "code",
   "execution_count": 11,
   "metadata": {},
   "outputs": [],
   "source": [
    "def handle_missing_values(X: np.array) -> np.array:\n",
    "    raw_X = X.copy()\n",
    "    nan_idxs = []\n",
    "\n",
    "    for i in range(raw_X.shape[0]):\n",
    "        for j in range(raw_X.shape[1]):\n",
    "            if math.isnan(raw_X[i, j]):\n",
    "                nan_idxs.append((i, j))\n",
    "                raw_X[i, j] = 0\n",
    "\n",
    "    if nan_idxs == []:\n",
    "        return X\n",
    "    else:\n",
    "        for i, j in nan_idxs:\n",
    "            raw_X[i, j] = np.mean(raw_X[:, j])\n",
    "        return raw_X"
   ]
  },
  {
   "cell_type": "code",
   "execution_count": 12,
   "metadata": {},
   "outputs": [
    {
     "name": "stdout",
     "output_type": "stream",
     "text": [
      "-0.14954606124539338 0.3198053105164657\n",
      "[0.2931566946722114, 0.07795148209364983, 0.07794854864757632, 0.04183196059050193, 0.002289107519565657, 0.002265639950977564, 0.002242172382389471, 0.0022374788686718525, 0.0022327853549542337, 0.0022280918412366153, 0.0022233983275189964, 0.002218704813801378, 0.0022140113000837596, 0.0022093177863661407, 0.0022046242726485223, 0.0021999307589309035, 0.002195237245213285, 4.560796254397074e-05, 4.091444882635215e-05, 3.622093510873356e-05, 1.2753366520640604e-05, -1.071420206745235e-05, -1.540771578507094e-05, -2.0101229502689534e-05, -2.4794743220308126e-05, -2.9488256937926714e-05, -3.41817706555453e-05, -3.8875284373163895e-05, -4.356879809078249e-05]\n",
      "[[[  0.0000   0.0000   0.0000  -0.0000   0.0000]], [[  0.0000   0.0000   0.0000   0.0000  -0.0000]], [[  0.0000   0.0000   0.0000  -0.0000   0.0000]], [[  0.0000   0.0000   0.0000  -0.0000   0.0000]], [[  0.0000   0.0000   0.0000   0.0000  -0.0000]], [[  0.0000   0.0000   0.0000   0.0000  -0.0000]], [[  0.0000   0.0000   0.0000   0.0000   0.0000]], [[  0.0000   0.0000   0.0000   0.0000   0.0000]], [[  0.0000   0.0000   0.0000   0.0000   0.0000]], [[  0.0000   0.0000   0.0000   0.0000   0.0000]], [[  0.0000   0.0000   0.0000   0.0000   0.0000]], [[  0.0000   0.0000   0.0000   0.0000   0.0000]], [[  0.0000   0.0000   0.0000   0.0000   0.0000]], [[  0.0000   0.0000   0.0000   0.0000   0.0000]], [[  0.0000   0.0000   0.0000   0.0000   0.0000]], [[  0.0000   0.0000   0.0000   0.0000   0.0000]], [[  0.0000   0.0000   0.0000   0.0000   0.0000]], [[  0.0000   0.0000   0.0000   0.0000   0.0000]], [[  0.0000   0.0000   0.0000   0.0000   0.0000]], [[  0.0000   0.0000   0.0000   0.0000   0.0000]], [[  0.0000   0.0000   0.0000   0.0000   0.0000]], [[  0.0000   0.0000   0.0000   0.0000  -0.0000]], [[  0.0000   0.0000   0.0000   0.0000  -0.0000]], [[  0.0000   0.0000   0.0000   0.0000  -0.0000]], [[  0.0000   0.0000   0.0000   0.0000  -0.0000]], [[  0.0000   0.0000   0.0000   0.0000  -0.0000]], [[  0.0000   0.0000   0.0000   0.0000  -0.0000]], [[  0.0000   0.0000   0.0000   0.0000  -0.0000]], [[  0.0000   0.0000   0.0000   0.0000  -0.0000]]]\n"
     ]
    }
   ],
   "source": [
    "n = 5\n",
    "X_stupid = center_data(np.utils.random_matrix((n, n)))\n",
    "C = covariance_matrix(X_stupid)\n",
    "eigenvalues = find_eigenvalues(C, tol=np.EPS)\n",
    "print(eigenvalues)\n",
    "eigenvectors = find_eigenvectors(C, eigenvalues)\n",
    "print(eigenvectors)"
   ]
  },
  {
   "cell_type": "markdown",
   "metadata": {},
   "source": [
    "## nampy.linalg\n"
   ]
  },
  {
   "cell_type": "code",
   "execution_count": 13,
   "metadata": {},
   "outputs": [],
   "source": [
    "import matplotlib.pyplot as plt\n",
    "import nampy.linalg as linalg\n",
    "\n",
    "X_rnd = np.utils.random_matrix((1000, 20))"
   ]
  },
  {
   "cell_type": "code",
   "execution_count": 14,
   "metadata": {},
   "outputs": [
    {
     "name": "stdout",
     "output_type": "stream",
     "text": [
      "[ -0.0628  -0.4922  -0.9285  -0.8768  -0.1499  -0.1613  -1.1128   1.0012   2.5264  -0.0387   2.3312   0.4823  -0.7262   0.6695  -0.7281   0.1042  -0.1782  -0.2204]\n",
      "[ -2.3145   0.4368  -0.2300   1.1964  -0.4926  -1.4304  -0.7044   0.0292   0.5308   1.3416  -1.6244  -0.2921  -1.4058   1.6353   0.9664   0.1743   1.0057  -0.7175]\n",
      "[  1.7769  -1.2457  -0.9528  -0.9810  -0.0928   0.5136   0.3193   0.0870  -0.0485   1.0279  -0.6923   0.5249  -0.0862  -1.4290  -1.2617   1.0586  -1.0550   1.0508]\n",
      "[  0.7305   0.8425   1.3722  -0.7554  -1.6115   0.9850   0.9028   2.1104  -1.9431  -0.7029   1.6057  -0.5007  -0.4026   1.2231  -1.1164   0.0005  -1.7663  -0.5263]\n",
      "[ -0.0444  -0.8240  -1.5349  -1.1705   1.5992   1.3883  -1.0162   0.0594   1.1311  -0.0398   0.9999   2.0524  -0.2862   0.7360   1.7205   0.3185  -1.0181  -0.8386]\n",
      "0.9185054826830282\n"
     ]
    }
   ],
   "source": [
    "def pca(X: np.array, threshold: float = 0.95) -> [np.array, float]:\n",
    "    X = np.std_scale(X, axis=0)\n",
    "    X = center_data(X)\n",
    "    C = covariance_matrix(X)\n",
    "    eigenvalues, eigenvectors = linalg.qr_eigen_decomposition(C)\n",
    "    # print(eigenvalues)\n",
    "    # print(eigenvectors)\n",
    "\n",
    "    k = auto_select_k(eigenvalues, threshold)\n",
    "\n",
    "    W = eigenvectors[:, :k]\n",
    "    return X @ W, explained_variance_ratio(eigenvalues, k)\n",
    "\n",
    "\n",
    "pca_rnd, c = pca(X_rnd, threshold=0.9)\n",
    "print(pca_rnd[:5, :])\n",
    "print(c)"
   ]
  },
  {
   "cell_type": "code",
   "execution_count": 15,
   "metadata": {},
   "outputs": [
    {
     "data": {
      "text/plain": [
       "1.0"
      ]
     },
     "execution_count": 15,
     "metadata": {},
     "output_type": "execute_result"
    }
   ],
   "source": [
    "def reconstruction_error(X_orig: np.array, X_recon: np.array) -> float:\n",
    "    assert X_orig.shape == X_recon.shape, (\n",
    "        f\"Shapes must match. Got {X_orig.shape} and {X_recon.shape}\"\n",
    "    )\n",
    "    n, m = X_orig.shape\n",
    "    diff = X_orig - X_recon\n",
    "    mse = np.sum(diff * diff) / (n * m)\n",
    "    return mse\n",
    "\n",
    "\n",
    "reconstruction_error(pca_rnd, pca_rnd + 1)"
   ]
  },
  {
   "cell_type": "code",
   "execution_count": 16,
   "metadata": {},
   "outputs": [
    {
     "data": {
      "text/plain": [
       "0.0846279699574903"
      ]
     },
     "execution_count": 16,
     "metadata": {},
     "output_type": "execute_result"
    }
   ],
   "source": [
    "def add_noise(X: np.array, alpha: float = 0.1) -> np.array:\n",
    "    std_dev = X.std\n",
    "\n",
    "    noise = np.zeros(X.shape)\n",
    "    for i in range(X.shape[0]):\n",
    "        for j in range(X.shape[1]):\n",
    "            # Генерируем случайный шум с нормальным распределением\n",
    "            # используя алгоритм Бокса-Мюллера\n",
    "            u1 = random.random()\n",
    "            u2 = random.random()\n",
    "            z = (-2 * math.log(u1)) ** 0.5 * math.cos(2 * math.pi * u2)\n",
    "\n",
    "            # Масштабируем шум уровнем шума и стандартным отклонением\n",
    "            noise[i, j] = z * alpha * std_dev\n",
    "\n",
    "    # Добавляем шум к исходным данным\n",
    "    X_noisy = X + noise\n",
    "\n",
    "    return X_noisy\n",
    "\n",
    "\n",
    "X_rnd_n = add_noise(X_rnd, alpha=1)\n",
    "reconstruction_error(X_rnd, X_rnd_n)"
   ]
  },
  {
   "cell_type": "code",
   "execution_count": 17,
   "metadata": {},
   "outputs": [
    {
     "name": "stdout",
     "output_type": "stream",
     "text": [
      "Alpha: 1.00, Error: 2.1961\n",
      "Alpha: 3.16, Error: 2.0280\n",
      "Alpha: 10.00, Error: 2.0053\n",
      "Alpha: 31.62, Error: 2.0356\n",
      "Alpha: 100.00, Error: 1.9941\n"
     ]
    },
    {
     "data": {
      "image/png": "[encoded data removed]",
      "text/plain": [
       "<Figure size 1200x600 with 1 Axes>"
      ]
     },
     "metadata": {},
     "output_type": "display_data"
    }
   ],
   "source": [
    "def compare_reconstruction_errors(X, alphas):\n",
    "    \"\"\"\n",
    "    На самом деле бессмыслицы потому что тупо меняем исходные данные\n",
    "    \"\"\"\n",
    "    errors = []\n",
    "\n",
    "    for alpha in alphas:\n",
    "        X_pca, _ = pca(X)\n",
    "\n",
    "        X_noisy = add_noise(X, alpha=alpha)\n",
    "        X_pca_noisy, _ = pca(X_noisy)\n",
    "\n",
    "        error = reconstruction_error(X_pca, X_pca_noisy)\n",
    "        errors.append(error)\n",
    "\n",
    "        print(f\"Alpha: {alpha:.2f}, Error: {error:.4f}\")\n",
    "\n",
    "    # Визуализируем результаты в логарифмическом масштабе\n",
    "    plt.figure(figsize=(12, 6))\n",
    "\n",
    "    plt.loglog(alphas, errors, \"o-\", linewidth=2, markersize=6, color=\"blue\")\n",
    "\n",
    "    plt.xlabel(\"Уровень шума (alpha)\")\n",
    "    plt.ylabel(\"Ошибка реконструкции\")\n",
    "    plt.title(\"Зависимость ошибки реконструкции от уровня шума (log-log)\")\n",
    "    plt.grid(True, which=\"both\", ls=\"-\")\n",
    "    plt.tight_layout()\n",
    "    plt.show()\n",
    "\n",
    "    return errors\n",
    "\n",
    "\n",
    "alphas = np.log_range(0, 100, 5)\n",
    "_ = compare_reconstruction_errors(X_rnd, alphas)"
   ]
  },
  {
   "cell_type": "markdown",
   "metadata": {},
   "source": [
    "## REAL DATA"
   ]
  },
  {
   "cell_type": "code",
   "execution_count": 18,
   "metadata": {},
   "outputs": [
    {
     "name": "stdout",
     "output_type": "stream",
     "text": [
      "SHAPE: (20640, 9)\n",
      "[-122.2300  37.8800  41.0000 880.0000 129.0000 322.0000 126.0000   8.3252   0.0000]\n",
      "[-122.2200  37.8600  21.0000 7099.0000 1106.0000 2401.0000 1138.0000   8.3014   0.0000]\n",
      "[-122.2400  37.8500  52.0000 1467.0000 190.0000 496.0000 177.0000   7.2574   0.0000]\n",
      "[-122.2500  37.8500  52.0000 1274.0000 235.0000 558.0000 219.0000   5.6431   0.0000]\n",
      "[-122.2500  37.8500  52.0000 1627.0000 280.0000 565.0000 259.0000   3.8462   0.0000]\n",
      "[-122.2500  37.8500  52.0000 919.0000 213.0000 413.0000 193.0000   4.0368   0.0000]\n",
      "[-122.2500  37.8400  52.0000 2535.0000 489.0000 1094.0000 514.0000   3.6591   0.0000]\n",
      "[-122.2500  37.8400  52.0000 3104.0000 687.0000 1157.0000 647.0000   3.1200   0.0000]\n",
      "[-122.2600  37.8400  42.0000 2555.0000 665.0000 1206.0000 595.0000   2.0804   0.0000]\n",
      "[-122.2500  37.8400  52.0000 3549.0000 707.0000 1551.0000 714.0000   3.6912   0.0000]\n"
     ]
    }
   ],
   "source": [
    "X, y = np.read_csv(\"./test_data/housing.csv\", target_col=-2)\n",
    "print(\"SHAPE:\", X.shape)\n",
    "print(X[:10, :])"
   ]
  },
  {
   "cell_type": "code",
   "execution_count": 19,
   "metadata": {},
   "outputs": [
    {
     "data": {
      "text/plain": [
       "78991.22745603028"
      ]
     },
     "execution_count": 19,
     "metadata": {},
     "output_type": "execute_result"
    }
   ],
   "source": [
    "from model import train_test_split, LinearRegression\n",
    "\n",
    "\n",
    "def test_pca(X: np.array, y: np.array, threshold: float = 0.95) -> [np.array, float]:\n",
    "    X, _ = pca(X, threshold=threshold)\n",
    "    X_train, X_test, y_train, y_test = train_test_split(\n",
    "        X, y, test_size=0.3, random_seed=42\n",
    "    )\n",
    "\n",
    "    linreg = LinearRegression().fit(X_train, y_train)\n",
    "    y_pred = linreg.predict(X_test)\n",
    "    return np.metrics.rmse(y_test, y_pred)\n",
    "\n",
    "\n",
    "test_pca(X, y, threshold=0.9)"
   ]
  },
  {
   "cell_type": "code",
   "execution_count": 20,
   "metadata": {},
   "outputs": [],
   "source": [
    "import plotly.graph_objects as go\n",
    "from numpy import argmin\n",
    "\n",
    "\n",
    "def analyze_test_pca(matrices, names=None):\n",
    "    if names is None:\n",
    "        names = [f\"Матрица {i + 1}\" for i in range(len(matrices))]\n",
    "\n",
    "    thresholds = np.log_range(1, 0.8, 10)\n",
    "    optimal_results = []\n",
    "    fig = go.Figure()\n",
    "\n",
    "    for i, ((X, y), name) in enumerate(zip(matrices, names)):\n",
    "        print(name, end=\"\\r\")\n",
    "        rmse_values = [test_pca(X, y, t) for t in thresholds]\n",
    "        base_rmse = rmse_values[0]\n",
    "        rmse_percent = [(rmse - base_rmse) / base_rmse * 100 for rmse in rmse_values]\n",
    "\n",
    "        fig.add_trace(\n",
    "            go.Scatter(\n",
    "                x=thresholds,\n",
    "                y=rmse_percent,\n",
    "                mode=\"lines+markers\",\n",
    "                name=name,\n",
    "                hovertemplate=(\n",
    "                    f\"<b>{name}</b><br>\"\n",
    "                    + \"Порог: %{x:.3f}<br>\"\n",
    "                    + \"Изменение RMSE: %{y:.2f}%<extra></extra>\"\n",
    "                ),\n",
    "            )\n",
    "        )\n",
    "\n",
    "        optimal_idx = argmin(rmse_values)\n",
    "        optimal_results.append(\n",
    "            {\n",
    "                \"name\": name,\n",
    "                \"threshold\": thresholds[optimal_idx],\n",
    "                \"rmse\": rmse_values[optimal_idx],\n",
    "                \"base_rmse\": base_rmse,\n",
    "                \"improvement\": base_rmse - rmse_values[optimal_idx],\n",
    "                \"improvement_percent\": (base_rmse - rmse_values[optimal_idx])\n",
    "                / base_rmse\n",
    "                * 100,\n",
    "            }\n",
    "        )\n",
    "\n",
    "    fig.add_shape(\n",
    "        type=\"line\",\n",
    "        x0=thresholds[0],\n",
    "        x1=thresholds[-1],\n",
    "        y0=0,\n",
    "        y1=0,\n",
    "        line=dict(color=\"red\", dash=\"dash\"),\n",
    "        opacity=0.7,\n",
    "    )\n",
    "\n",
    "    fig.update_layout(\n",
    "        title=\"Процентное изменение RMSE относительно порога 1.0\",\n",
    "        xaxis_title=\"Порог объясненной дисперсии\",\n",
    "        yaxis_title=\"Процентное изменение RMSE (%)\",\n",
    "        xaxis=dict(autorange=\"reversed\"),  # инвертируем ось X\n",
    "        template=\"plotly_white\",\n",
    "        legend=dict(title=\"Матрицы\"),\n",
    "        height=600,\n",
    "    )\n",
    "\n",
    "    fig.show()\n",
    "    return optimal_results"
   ]
  },
  {
   "cell_type": "code",
   "execution_count": 21,
   "metadata": {},
   "outputs": [
    {
     "name": "stdout",
     "output_type": "stream",
     "text": [
      "Insurance\r"
     ]
    },
    {
     "data": {
      "application/vnd.plotly.v1+json": {
       "config": {
        "plotlyServerURL": "https://plot.ly"
       },
       "data": [
        {
         "hovertemplate": "<b>Housing</b><br>Порог: %{x:.3f}<br>Изменение RMSE: %{y:.2f}%<extra></extra>",
         "mode": "lines+markers",
         "name": "Housing",
         "type": "scatter",
         "x": [
          1,
          0.9755111119790766,
          0.9516219295946544,
          0.9283177667225558,
          0.9055842968854534,
          0.8834075444455188,
          0.8617738760127536,
          0.8406699920637201,
          0.820082918765521,
          0.8
         ],
         "y": [
          0,
          11.243152202199472,
          11.243152202199472,
          11.243152202199472,
          13.085803230896282,
          13.085803230896282,
          13.085803230896282,
          23.05744966021103,
          23.05744966021103,
          23.05744966021103
         ]
        },
        {
         "hovertemplate": "<b>Salary</b><br>Порог: %{x:.3f}<br>Изменение RMSE: %{y:.2f}%<extra></extra>",
         "mode": "lines+markers",
         "name": "Salary",
         "type": "scatter",
         "x": [
          1,
          0.9755111119790766,
          0.9516219295946544,
          0.9283177667225558,
          0.9055842968854534,
          0.8834075444455188,
          0.8617738760127536,
          0.8406699920637201,
          0.820082918765521,
          0.8
         ],
         "y": [
          0,
          0,
          0,
          0,
          0,
          0,
          0,
          0,
          0,
          0
         ]
        },
        {
         "hovertemplate": "<b>Concrete</b><br>Порог: %{x:.3f}<br>Изменение RMSE: %{y:.2f}%<extra></extra>",
         "mode": "lines+markers",
         "name": "Concrete",
         "type": "scatter",
         "x": [
          1,
          0.9755111119790766,
          0.9516219295946544,
          0.9283177667225558,
          0.9055842968854534,
          0.8834075444455188,
          0.8617738760127536,
          0.8406699920637201,
          0.820082918765521,
          0.8
         ],
         "y": [
          0,
          1.124793859633532,
          7.265833763366111,
          7.265833763366111,
          7.265833763366111,
          7.265833763366111,
          23.795709340041192,
          23.795709340041192,
          23.795709340041192,
          23.795709340041192
         ]
        },
        {
         "hovertemplate": "<b>Insurance</b><br>Порог: %{x:.3f}<br>Изменение RMSE: %{y:.2f}%<extra></extra>",
         "mode": "lines+markers",
         "name": "Insurance",
         "type": "scatter",
         "x": [
          1,
          0.9755111119790766,
          0.9516219295946544,
          0.9283177667225558,
          0.9055842968854534,
          0.8834075444455188,
          0.8617738760127536,
          0.8406699920637201,
          0.820082918765521,
          0.8
         ],
         "y": [
          0,
          0,
          0,
          0,
          0,
          0,
          0.40913393503219386,
          0.40913393503219386,
          0.40913393503219386,
          0.40913393503219386
         ]
        }
       ],
       "layout": {
        "height": 600,
        "legend": {
         "title": {
          "text": "Матрицы"
         }
        },
        "shapes": [
         {
          "line": {
           "color": "red",
           "dash": "dash"
          },
          "opacity": 0.7,
          "type": "line",
          "x0": 1,
          "x1": 0.8,
          "y0": 0,
          "y1": 0
         }
        ],
        "template": {
         "data": {
          "bar": [
           {
            "error_x": {
             "color": "#2a3f5f"
            },
            "error_y": {
             "color": "#2a3f5f"
            },
            "marker": {
             "line": {
              "color": "white",
              "width": 0.5
             },
             "pattern": {
              "fillmode": "overlay",
              "size": 10,
              "solidity": 0.2
             }
            },
            "type": "bar"
           }
          ],
          "barpolar": [
           {
            "marker": {
             "line": {
              "color": "white",
              "width": 0.5
             },
             "pattern": {
              "fillmode": "overlay",
              "size": 10,
              "solidity": 0.2
             }
            },
            "type": "barpolar"
           }
          ],
          "carpet": [
           {
            "aaxis": {
             "endlinecolor": "#2a3f5f",
             "gridcolor": "#C8D4E3",
             "linecolor": "#C8D4E3",
             "minorgridcolor": "#C8D4E3",
             "startlinecolor": "#2a3f5f"
            },
            "baxis": {
             "endlinecolor": "#2a3f5f",
             "gridcolor": "#C8D4E3",
             "linecolor": "#C8D4E3",
             "minorgridcolor": "#C8D4E3",
             "startlinecolor": "#2a3f5f"
            },
            "type": "carpet"
           }
          ],
          "choropleth": [
           {
            "colorbar": {
             "outlinewidth": 0,
             "ticks": ""
            },
            "type": "choropleth"
           }
          ],
          "contour": [
           {
            "colorbar": {
             "outlinewidth": 0,
             "ticks": ""
            },
            "colorscale": [
             [
              0,
              "#0d0887"
             ],
             [
              0.1111111111111111,
              "#46039f"
             ],
             [
              0.2222222222222222,
              "#7201a8"
             ],
             [
              0.3333333333333333,
              "#9c179e"
             ],
             [
              0.4444444444444444,
              "#bd3786"
             ],
             [
              0.5555555555555556,
              "#d8576b"
             ],
             [
              0.6666666666666666,
              "#ed7953"
             ],
             [
              0.7777777777777778,
              "#fb9f3a"
             ],
             [
              0.8888888888888888,
              "#fdca26"
             ],
             [
              1,
              "#f0f921"
             ]
            ],
            "type": "contour"
           }
          ],
          "contourcarpet": [
           {
            "colorbar": {
             "outlinewidth": 0,
             "ticks": ""
            },
            "type": "contourcarpet"
           }
          ],
          "heatmap": [
           {
            "colorbar": {
             "outlinewidth": 0,
             "ticks": ""
            },
            "colorscale": [
             [
              0,
              "#0d0887"
             ],
             [
              0.1111111111111111,
              "#46039f"
             ],
             [
              0.2222222222222222,
              "#7201a8"
             ],
             [
              0.3333333333333333,
              "#9c179e"
             ],
             [
              0.4444444444444444,
              "#bd3786"
             ],
             [
              0.5555555555555556,
              "#d8576b"
             ],
             [
              0.6666666666666666,
              "#ed7953"
             ],
             [
              0.7777777777777778,
              "#fb9f3a"
             ],
             [
              0.8888888888888888,
              "#fdca26"
             ],
             [
              1,
              "#f0f921"
             ]
            ],
            "type": "heatmap"
           }
          ],
          "histogram": [
           {
            "marker": {
             "pattern": {
              "fillmode": "overlay",
              "size": 10,
              "solidity": 0.2
             }
            },
            "type": "histogram"
           }
          ],
          "histogram2d": [
           {
            "colorbar": {
             "outlinewidth": 0,
             "ticks": ""
            },
            "colorscale": [
             [
              0,
              "#0d0887"
             ],
             [
              0.1111111111111111,
              "#46039f"
             ],
             [
              0.2222222222222222,
              "#7201a8"
             ],
             [
              0.3333333333333333,
              "#9c179e"
             ],
             [
              0.4444444444444444,
              "#bd3786"
             ],
             [
              0.5555555555555556,
              "#d8576b"
             ],
             [
              0.6666666666666666,
              "#ed7953"
             ],
             [
              0.7777777777777778,
              "#fb9f3a"
             ],
             [
              0.8888888888888888,
              "#fdca26"
             ],
             [
              1,
              "#f0f921"
             ]
            ],
            "type": "histogram2d"
           }
          ],
          "histogram2dcontour": [
           {
            "colorbar": {
             "outlinewidth": 0,
             "ticks": ""
            },
            "colorscale": [
             [
              0,
              "#0d0887"
             ],
             [
              0.1111111111111111,
              "#46039f"
             ],
             [
              0.2222222222222222,
              "#7201a8"
             ],
             [
              0.3333333333333333,
              "#9c179e"
             ],
             [
              0.4444444444444444,
              "#bd3786"
             ],
             [
              0.5555555555555556,
              "#d8576b"
             ],
             [
              0.6666666666666666,
              "#ed7953"
             ],
             [
              0.7777777777777778,
              "#fb9f3a"
             ],
             [
              0.8888888888888888,
              "#fdca26"
             ],
             [
              1,
              "#f0f921"
             ]
            ],
            "type": "histogram2dcontour"
           }
          ],
          "mesh3d": [
           {
            "colorbar": {
             "outlinewidth": 0,
             "ticks": ""
            },
            "type": "mesh3d"
           }
          ],
          "parcoords": [
           {
            "line": {
             "colorbar": {
              "outlinewidth": 0,
              "ticks": ""
             }
            },
            "type": "parcoords"
           }
          ],
          "pie": [
           {
            "automargin": true,
            "type": "pie"
           }
          ],
          "scatter": [
           {
            "fillpattern": {
             "fillmode": "overlay",
             "size": 10,
             "solidity": 0.2
            },
            "type": "scatter"
           }
          ],
          "scatter3d": [
           {
            "line": {
             "colorbar": {
              "outlinewidth": 0,
              "ticks": ""
             }
            },
            "marker": {
             "colorbar": {
              "outlinewidth": 0,
              "ticks": ""
             }
            },
            "type": "scatter3d"
           }
          ],
          "scattercarpet": [
           {
            "marker": {
             "colorbar": {
              "outlinewidth": 0,
              "ticks": ""
             }
            },
            "type": "scattercarpet"
           }
          ],
          "scattergeo": [
           {
            "marker": {
             "colorbar": {
              "outlinewidth": 0,
              "ticks": ""
             }
            },
            "type": "scattergeo"
           }
          ],
          "scattergl": [
           {
            "marker": {
             "colorbar": {
              "outlinewidth": 0,
              "ticks": ""
             }
            },
            "type": "scattergl"
           }
          ],
          "scattermap": [
           {
            "marker": {
             "colorbar": {
              "outlinewidth": 0,
              "ticks": ""
             }
            },
            "type": "scattermap"
           }
          ],
          "scattermapbox": [
           {
            "marker": {
             "colorbar": {
              "outlinewidth": 0,
              "ticks": ""
             }
            },
            "type": "scattermapbox"
           }
          ],
          "scatterpolar": [
           {
            "marker": {
             "colorbar": {
              "outlinewidth": 0,
              "ticks": ""
             }
            },
            "type": "scatterpolar"
           }
          ],
          "scatterpolargl": [
           {
            "marker": {
             "colorbar": {
              "outlinewidth": 0,
              "ticks": ""
             }
            },
            "type": "scatterpolargl"
           }
          ],
          "scatterternary": [
           {
            "marker": {
             "colorbar": {
              "outlinewidth": 0,
              "ticks": ""
             }
            },
            "type": "scatterternary"
           }
          ],
          "surface": [
           {
            "colorbar": {
             "outlinewidth": 0,
             "ticks": ""
            },
            "colorscale": [
             [
              0,
              "#0d0887"
             ],
             [
              0.1111111111111111,
              "#46039f"
             ],
             [
              0.2222222222222222,
              "#7201a8"
             ],
             [
              0.3333333333333333,
              "#9c179e"
             ],
             [
              0.4444444444444444,
              "#bd3786"
             ],
             [
              0.5555555555555556,
              "#d8576b"
             ],
             [
              0.6666666666666666,
              "#ed7953"
             ],
             [
              0.7777777777777778,
              "#fb9f3a"
             ],
             [
              0.8888888888888888,
              "#fdca26"
             ],
             [
              1,
              "#f0f921"
             ]
            ],
            "type": "surface"
           }
          ],
          "table": [
           {
            "cells": {
             "fill": {
              "color": "#EBF0F8"
             },
             "line": {
              "color": "white"
             }
            },
            "header": {
             "fill": {
              "color": "#C8D4E3"
             },
             "line": {
              "color": "white"
             }
            },
            "type": "table"
           }
          ]
         },
         "layout": {
          "annotationdefaults": {
           "arrowcolor": "#2a3f5f",
           "arrowhead": 0,
           "arrowwidth": 1
          },
          "autotypenumbers": "strict",
          "coloraxis": {
           "colorbar": {
            "outlinewidth": 0,
            "ticks": ""
           }
          },
          "colorscale": {
           "diverging": [
            [
             0,
             "#8e0152"
            ],
            [
             0.1,
             "#c51b7d"
            ],
            [
             0.2,
             "#de77ae"
            ],
            [
             0.3,
             "#f1b6da"
            ],
            [
             0.4,
             "#fde0ef"
            ],
            [
             0.5,
             "#f7f7f7"
            ],
            [
             0.6,
             "#e6f5d0"
            ],
            [
             0.7,
             "#b8e186"
            ],
            [
             0.8,
             "#7fbc41"
            ],
            [
             0.9,
             "#4d9221"
            ],
            [
             1,
             "#276419"
            ]
           ],
           "sequential": [
            [
             0,
             "#0d0887"
            ],
            [
             0.1111111111111111,
             "#46039f"
            ],
            [
             0.2222222222222222,
             "#7201a8"
            ],
            [
             0.3333333333333333,
             "#9c179e"
            ],
            [
             0.4444444444444444,
             "#bd3786"
            ],
            [
             0.5555555555555556,
             "#d8576b"
            ],
            [
             0.6666666666666666,
             "#ed7953"
            ],
            [
             0.7777777777777778,
             "#fb9f3a"
            ],
            [
             0.8888888888888888,
             "#fdca26"
            ],
            [
             1,
             "#f0f921"
            ]
           ],
           "sequentialminus": [
            [
             0,
             "#0d0887"
            ],
            [
             0.1111111111111111,
             "#46039f"
            ],
            [
             0.2222222222222222,
             "#7201a8"
            ],
            [
             0.3333333333333333,
             "#9c179e"
            ],
            [
             0.4444444444444444,
             "#bd3786"
            ],
            [
             0.5555555555555556,
             "#d8576b"
            ],
            [
             0.6666666666666666,
             "#ed7953"
            ],
            [
             0.7777777777777778,
             "#fb9f3a"
            ],
            [
             0.8888888888888888,
             "#fdca26"
            ],
            [
             1,
             "#f0f921"
            ]
           ]
          },
          "colorway": [
           "#636efa",
           "#EF553B",
           "#00cc96",
           "#ab63fa",
           "#FFA15A",
           "#19d3f3",
           "#FF6692",
           "#B6E880",
           "#FF97FF",
           "#FECB52"
          ],
          "font": {
           "color": "#2a3f5f"
          },
          "geo": {
           "bgcolor": "white",
           "lakecolor": "white",
           "landcolor": "white",
           "showlakes": true,
           "showland": true,
           "subunitcolor": "#C8D4E3"
          },
          "hoverlabel": {
           "align": "left"
          },
          "hovermode": "closest",
          "mapbox": {
           "style": "light"
          },
          "paper_bgcolor": "white",
          "plot_bgcolor": "white",
          "polar": {
           "angularaxis": {
            "gridcolor": "#EBF0F8",
            "linecolor": "#EBF0F8",
            "ticks": ""
           },
           "bgcolor": "white",
           "radialaxis": {
            "gridcolor": "#EBF0F8",
            "linecolor": "#EBF0F8",
            "ticks": ""
           }
          },
          "scene": {
           "xaxis": {
            "backgroundcolor": "white",
            "gridcolor": "#DFE8F3",
            "gridwidth": 2,
            "linecolor": "#EBF0F8",
            "showbackground": true,
            "ticks": "",
            "zerolinecolor": "#EBF0F8"
           },
           "yaxis": {
            "backgroundcolor": "white",
            "gridcolor": "#DFE8F3",
            "gridwidth": 2,
            "linecolor": "#EBF0F8",
            "showbackground": true,
            "ticks": "",
            "zerolinecolor": "#EBF0F8"
           },
           "zaxis": {
            "backgroundcolor": "white",
            "gridcolor": "#DFE8F3",
            "gridwidth": 2,
            "linecolor": "#EBF0F8",
            "showbackground": true,
            "ticks": "",
            "zerolinecolor": "#EBF0F8"
           }
          },
          "shapedefaults": {
           "line": {
            "color": "#2a3f5f"
           }
          },
          "ternary": {
           "aaxis": {
            "gridcolor": "#DFE8F3",
            "linecolor": "#A2B1C6",
            "ticks": ""
           },
           "baxis": {
            "gridcolor": "#DFE8F3",
            "linecolor": "#A2B1C6",
            "ticks": ""
           },
           "bgcolor": "white",
           "caxis": {
            "gridcolor": "#DFE8F3",
            "linecolor": "#A2B1C6",
            "ticks": ""
           }
          },
          "title": {
           "x": 0.05
          },
          "xaxis": {
           "automargin": true,
           "gridcolor": "#EBF0F8",
           "linecolor": "#EBF0F8",
           "ticks": "",
           "title": {
            "standoff": 15
           },
           "zerolinecolor": "#EBF0F8",
           "zerolinewidth": 2
          },
          "yaxis": {
           "automargin": true,
           "gridcolor": "#EBF0F8",
           "linecolor": "#EBF0F8",
           "ticks": "",
           "title": {
            "standoff": 15
           },
           "zerolinecolor": "#EBF0F8",
           "zerolinewidth": 2
          }
         }
        },
        "title": {
         "text": "Процентное изменение RMSE относительно порога 1.0"
        },
        "xaxis": {
         "autorange": "reversed",
         "title": {
          "text": "Порог объясненной дисперсии"
         }
        },
        "yaxis": {
         "title": {
          "text": "Процентное изменение RMSE (%)"
         }
        }
       }
      }
     },
     "metadata": {},
     "output_type": "display_data"
    }
   ],
   "source": [
    "dataset_paths = [\n",
    "    (\"./test_data/housing.csv\", -2),\n",
    "    (\"./test_data/salary.csv\", -1),\n",
    "    (\"./test_data/Concrete_Data.csv\", -1),\n",
    "    (\"./test_data/insurance.csv\", -1),\n",
    "]\n",
    "\n",
    "real_matrices = []\n",
    "for dataset_path, target_col in dataset_paths:\n",
    "    X, y = np.read_csv(dataset_path, target_col)\n",
    "    real_matrices.append((X, y))\n",
    "\n",
    "real_names = [\"Housing\", \"Salary\", \"Concrete\", \"Insurance\"]\n",
    "\n",
    "optimal_results_real = analyze_test_pca(real_matrices, real_names)"
   ]
  },
  {
   "cell_type": "code",
   "execution_count": 22,
   "metadata": {},
   "outputs": [
    {
     "name": "stdout",
     "output_type": "stream",
     "text": [
      "Synthetic (n=20)\r"
     ]
    },
    {
     "data": {
      "application/vnd.plotly.v1+json": {
       "config": {
        "plotlyServerURL": "https://plot.ly"
       },
       "data": [
        {
         "hovertemplate": "<b>Synthetic (n=5)</b><br>Порог: %{x:.3f}<br>Изменение RMSE: %{y:.2f}%<extra></extra>",
         "mode": "lines+markers",
         "name": "Synthetic (n=5)",
         "type": "scatter",
         "x": [
          1,
          0.9755111119790766,
          0.9516219295946544,
          0.9283177667225558,
          0.9055842968854534,
          0.8834075444455188,
          0.8617738760127536,
          0.8406699920637201,
          0.820082918765521,
          0.8
         ],
         "y": [
          0,
          0,
          0,
          0,
          0,
          0,
          0,
          0,
          0,
          0.0160335250840696
         ]
        },
        {
         "hovertemplate": "<b>Synthetic (n=10)</b><br>Порог: %{x:.3f}<br>Изменение RMSE: %{y:.2f}%<extra></extra>",
         "mode": "lines+markers",
         "name": "Synthetic (n=10)",
         "type": "scatter",
         "x": [
          1,
          0.9755111119790766,
          0.9516219295946544,
          0.9283177667225558,
          0.9055842968854534,
          0.8834075444455188,
          0.8617738760127536,
          0.8406699920637201,
          0.820082918765521,
          0.8
         ],
         "y": [
          0,
          0,
          0,
          0,
          0.07502010158902502,
          0.07502010158902502,
          0.07502010158902502,
          0.07502010158902502,
          0.036332680843117,
          0.036332680843117
         ]
        },
        {
         "hovertemplate": "<b>Synthetic (n=15)</b><br>Порог: %{x:.3f}<br>Изменение RMSE: %{y:.2f}%<extra></extra>",
         "mode": "lines+markers",
         "name": "Synthetic (n=15)",
         "type": "scatter",
         "x": [
          1,
          0.9755111119790766,
          0.9516219295946544,
          0.9283177667225558,
          0.9055842968854534,
          0.8834075444455188,
          0.8617738760127536,
          0.8406699920637201,
          0.820082918765521,
          0.8
         ],
         "y": [
          0,
          0,
          0,
          -0.02730096285304682,
          -0.02730096285304682,
          -0.03792643349751149,
          -0.03792643349751149,
          -0.03792643349751149,
          -0.8474494996571951,
          -0.8474494996571951
         ]
        },
        {
         "hovertemplate": "<b>Synthetic (n=20)</b><br>Порог: %{x:.3f}<br>Изменение RMSE: %{y:.2f}%<extra></extra>",
         "mode": "lines+markers",
         "name": "Synthetic (n=20)",
         "type": "scatter",
         "x": [
          1,
          0.9755111119790766,
          0.9516219295946544,
          0.9283177667225558,
          0.9055842968854534,
          0.8834075444455188,
          0.8617738760127536,
          0.8406699920637201,
          0.820082918765521,
          0.8
         ],
         "y": [
          0,
          0,
          -0.09120236980892515,
          -0.09120236980892515,
          -0.035320701113269494,
          -0.035320701113269494,
          -0.4772127358974646,
          -0.4772127358974646,
          -0.4762855639907336,
          -0.4762855639907336
         ]
        }
       ],
       "layout": {
        "height": 600,
        "legend": {
         "title": {
          "text": "Матрицы"
         }
        },
        "shapes": [
         {
          "line": {
           "color": "red",
           "dash": "dash"
          },
          "opacity": 0.7,
          "type": "line",
          "x0": 1,
          "x1": 0.8,
          "y0": 0,
          "y1": 0
         }
        ],
        "template": {
         "data": {
          "bar": [
           {
            "error_x": {
             "color": "#2a3f5f"
            },
            "error_y": {
             "color": "#2a3f5f"
            },
            "marker": {
             "line": {
              "color": "white",
              "width": 0.5
             },
             "pattern": {
              "fillmode": "overlay",
              "size": 10,
              "solidity": 0.2
             }
            },
            "type": "bar"
           }
          ],
          "barpolar": [
           {
            "marker": {
             "line": {
              "color": "white",
              "width": 0.5
             },
             "pattern": {
              "fillmode": "overlay",
              "size": 10,
              "solidity": 0.2
             }
            },
            "type": "barpolar"
           }
          ],
          "carpet": [
           {
            "aaxis": {
             "endlinecolor": "#2a3f5f",
             "gridcolor": "#C8D4E3",
             "linecolor": "#C8D4E3",
             "minorgridcolor": "#C8D4E3",
             "startlinecolor": "#2a3f5f"
            },
            "baxis": {
             "endlinecolor": "#2a3f5f",
             "gridcolor": "#C8D4E3",
             "linecolor": "#C8D4E3",
             "minorgridcolor": "#C8D4E3",
             "startlinecolor": "#2a3f5f"
            },
            "type": "carpet"
           }
          ],
          "choropleth": [
           {
            "colorbar": {
             "outlinewidth": 0,
             "ticks": ""
            },
            "type": "choropleth"
           }
          ],
          "contour": [
           {
            "colorbar": {
             "outlinewidth": 0,
             "ticks": ""
            },
            "colorscale": [
             [
              0,
              "#0d0887"
             ],
             [
              0.1111111111111111,
              "#46039f"
             ],
             [
              0.2222222222222222,
              "#7201a8"
             ],
             [
              0.3333333333333333,
              "#9c179e"
             ],
             [
              0.4444444444444444,
              "#bd3786"
             ],
             [
              0.5555555555555556,
              "#d8576b"
             ],
             [
              0.6666666666666666,
              "#ed7953"
             ],
             [
              0.7777777777777778,
              "#fb9f3a"
             ],
             [
              0.8888888888888888,
              "#fdca26"
             ],
             [
              1,
              "#f0f921"
             ]
            ],
            "type": "contour"
           }
          ],
          "contourcarpet": [
           {
            "colorbar": {
             "outlinewidth": 0,
             "ticks": ""
            },
            "type": "contourcarpet"
           }
          ],
          "heatmap": [
           {
            "colorbar": {
             "outlinewidth": 0,
             "ticks": ""
            },
            "colorscale": [
             [
              0,
              "#0d0887"
             ],
             [
              0.1111111111111111,
              "#46039f"
             ],
             [
              0.2222222222222222,
              "#7201a8"
             ],
             [
              0.3333333333333333,
              "#9c179e"
             ],
             [
              0.4444444444444444,
              "#bd3786"
             ],
             [
              0.5555555555555556,
              "#d8576b"
             ],
             [
              0.6666666666666666,
              "#ed7953"
             ],
             [
              0.7777777777777778,
              "#fb9f3a"
             ],
             [
              0.8888888888888888,
              "#fdca26"
             ],
             [
              1,
              "#f0f921"
             ]
            ],
            "type": "heatmap"
           }
          ],
          "histogram": [
           {
            "marker": {
             "pattern": {
              "fillmode": "overlay",
              "size": 10,
              "solidity": 0.2
             }
            },
            "type": "histogram"
           }
          ],
          "histogram2d": [
           {
            "colorbar": {
             "outlinewidth": 0,
             "ticks": ""
            },
            "colorscale": [
             [
              0,
              "#0d0887"
             ],
             [
              0.1111111111111111,
              "#46039f"
             ],
             [
              0.2222222222222222,
              "#7201a8"
             ],
             [
              0.3333333333333333,
              "#9c179e"
             ],
             [
              0.4444444444444444,
              "#bd3786"
             ],
             [
              0.5555555555555556,
              "#d8576b"
             ],
             [
              0.6666666666666666,
              "#ed7953"
             ],
             [
              0.7777777777777778,
              "#fb9f3a"
             ],
             [
              0.8888888888888888,
              "#fdca26"
             ],
             [
              1,
              "#f0f921"
             ]
            ],
            "type": "histogram2d"
           }
          ],
          "histogram2dcontour": [
           {
            "colorbar": {
             "outlinewidth": 0,
             "ticks": ""
            },
            "colorscale": [
             [
              0,
              "#0d0887"
             ],
             [
              0.1111111111111111,
              "#46039f"
             ],
             [
              0.2222222222222222,
              "#7201a8"
             ],
             [
              0.3333333333333333,
              "#9c179e"
             ],
             [
              0.4444444444444444,
              "#bd3786"
             ],
             [
              0.5555555555555556,
              "#d8576b"
             ],
             [
              0.6666666666666666,
              "#ed7953"
             ],
             [
              0.7777777777777778,
              "#fb9f3a"
             ],
             [
              0.8888888888888888,
              "#fdca26"
             ],
             [
              1,
              "#f0f921"
             ]
            ],
            "type": "histogram2dcontour"
           }
          ],
          "mesh3d": [
           {
            "colorbar": {
             "outlinewidth": 0,
             "ticks": ""
            },
            "type": "mesh3d"
           }
          ],
          "parcoords": [
           {
            "line": {
             "colorbar": {
              "outlinewidth": 0,
              "ticks": ""
             }
            },
            "type": "parcoords"
           }
          ],
          "pie": [
           {
            "automargin": true,
            "type": "pie"
           }
          ],
          "scatter": [
           {
            "fillpattern": {
             "fillmode": "overlay",
             "size": 10,
             "solidity": 0.2
            },
            "type": "scatter"
           }
          ],
          "scatter3d": [
           {
            "line": {
             "colorbar": {
              "outlinewidth": 0,
              "ticks": ""
             }
            },
            "marker": {
             "colorbar": {
              "outlinewidth": 0,
              "ticks": ""
             }
            },
            "type": "scatter3d"
           }
          ],
          "scattercarpet": [
           {
            "marker": {
             "colorbar": {
              "outlinewidth": 0,
              "ticks": ""
             }
            },
            "type": "scattercarpet"
           }
          ],
          "scattergeo": [
           {
            "marker": {
             "colorbar": {
              "outlinewidth": 0,
              "ticks": ""
             }
            },
            "type": "scattergeo"
           }
          ],
          "scattergl": [
           {
            "marker": {
             "colorbar": {
              "outlinewidth": 0,
              "ticks": ""
             }
            },
            "type": "scattergl"
           }
          ],
          "scattermap": [
           {
            "marker": {
             "colorbar": {
              "outlinewidth": 0,
              "ticks": ""
             }
            },
            "type": "scattermap"
           }
          ],
          "scattermapbox": [
           {
            "marker": {
             "colorbar": {
              "outlinewidth": 0,
              "ticks": ""
             }
            },
            "type": "scattermapbox"
           }
          ],
          "scatterpolar": [
           {
            "marker": {
             "colorbar": {
              "outlinewidth": 0,
              "ticks": ""
             }
            },
            "type": "scatterpolar"
           }
          ],
          "scatterpolargl": [
           {
            "marker": {
             "colorbar": {
              "outlinewidth": 0,
              "ticks": ""
             }
            },
            "type": "scatterpolargl"
           }
          ],
          "scatterternary": [
           {
            "marker": {
             "colorbar": {
              "outlinewidth": 0,
              "ticks": ""
             }
            },
            "type": "scatterternary"
           }
          ],
          "surface": [
           {
            "colorbar": {
             "outlinewidth": 0,
             "ticks": ""
            },
            "colorscale": [
             [
              0,
              "#0d0887"
             ],
             [
              0.1111111111111111,
              "#46039f"
             ],
             [
              0.2222222222222222,
              "#7201a8"
             ],
             [
              0.3333333333333333,
              "#9c179e"
             ],
             [
              0.4444444444444444,
              "#bd3786"
             ],
             [
              0.5555555555555556,
              "#d8576b"
             ],
             [
              0.6666666666666666,
              "#ed7953"
             ],
             [
              0.7777777777777778,
              "#fb9f3a"
             ],
             [
              0.8888888888888888,
              "#fdca26"
             ],
             [
              1,
              "#f0f921"
             ]
            ],
            "type": "surface"
           }
          ],
          "table": [
           {
            "cells": {
             "fill": {
              "color": "#EBF0F8"
             },
             "line": {
              "color": "white"
             }
            },
            "header": {
             "fill": {
              "color": "#C8D4E3"
             },
             "line": {
              "color": "white"
             }
            },
            "type": "table"
           }
          ]
         },
         "layout": {
          "annotationdefaults": {
           "arrowcolor": "#2a3f5f",
           "arrowhead": 0,
           "arrowwidth": 1
          },
          "autotypenumbers": "strict",
          "coloraxis": {
           "colorbar": {
            "outlinewidth": 0,
            "ticks": ""
           }
          },
          "colorscale": {
           "diverging": [
            [
             0,
             "#8e0152"
            ],
            [
             0.1,
             "#c51b7d"
            ],
            [
             0.2,
             "#de77ae"
            ],
            [
             0.3,
             "#f1b6da"
            ],
            [
             0.4,
             "#fde0ef"
            ],
            [
             0.5,
             "#f7f7f7"
            ],
            [
             0.6,
             "#e6f5d0"
            ],
            [
             0.7,
             "#b8e186"
            ],
            [
             0.8,
             "#7fbc41"
            ],
            [
             0.9,
             "#4d9221"
            ],
            [
             1,
             "#276419"
            ]
           ],
           "sequential": [
            [
             0,
             "#0d0887"
            ],
            [
             0.1111111111111111,
             "#46039f"
            ],
            [
             0.2222222222222222,
             "#7201a8"
            ],
            [
             0.3333333333333333,
             "#9c179e"
            ],
            [
             0.4444444444444444,
             "#bd3786"
            ],
            [
             0.5555555555555556,
             "#d8576b"
            ],
            [
             0.6666666666666666,
             "#ed7953"
            ],
            [
             0.7777777777777778,
             "#fb9f3a"
            ],
            [
             0.8888888888888888,
             "#fdca26"
            ],
            [
             1,
             "#f0f921"
            ]
           ],
           "sequentialminus": [
            [
             0,
             "#0d0887"
            ],
            [
             0.1111111111111111,
             "#46039f"
            ],
            [
             0.2222222222222222,
             "#7201a8"
            ],
            [
             0.3333333333333333,
             "#9c179e"
            ],
            [
             0.4444444444444444,
             "#bd3786"
            ],
            [
             0.5555555555555556,
             "#d8576b"
            ],
            [
             0.6666666666666666,
             "#ed7953"
            ],
            [
             0.7777777777777778,
             "#fb9f3a"
            ],
            [
             0.8888888888888888,
             "#fdca26"
            ],
            [
             1,
             "#f0f921"
            ]
           ]
          },
          "colorway": [
           "#636efa",
           "#EF553B",
           "#00cc96",
           "#ab63fa",
           "#FFA15A",
           "#19d3f3",
           "#FF6692",
           "#B6E880",
           "#FF97FF",
           "#FECB52"
          ],
          "font": {
           "color": "#2a3f5f"
          },
          "geo": {
           "bgcolor": "white",
           "lakecolor": "white",
           "landcolor": "white",
           "showlakes": true,
           "showland": true,
           "subunitcolor": "#C8D4E3"
          },
          "hoverlabel": {
           "align": "left"
          },
          "hovermode": "closest",
          "mapbox": {
           "style": "light"
          },
          "paper_bgcolor": "white",
          "plot_bgcolor": "white",
          "polar": {
           "angularaxis": {
            "gridcolor": "#EBF0F8",
            "linecolor": "#EBF0F8",
            "ticks": ""
           },
           "bgcolor": "white",
           "radialaxis": {
            "gridcolor": "#EBF0F8",
            "linecolor": "#EBF0F8",
            "ticks": ""
           }
          },
          "scene": {
           "xaxis": {
            "backgroundcolor": "white",
            "gridcolor": "#DFE8F3",
            "gridwidth": 2,
            "linecolor": "#EBF0F8",
            "showbackground": true,
            "ticks": "",
            "zerolinecolor": "#EBF0F8"
           },
           "yaxis": {
            "backgroundcolor": "white",
            "gridcolor": "#DFE8F3",
            "gridwidth": 2,
            "linecolor": "#EBF0F8",
            "showbackground": true,
            "ticks": "",
            "zerolinecolor": "#EBF0F8"
           },
           "zaxis": {
            "backgroundcolor": "white",
            "gridcolor": "#DFE8F3",
            "gridwidth": 2,
            "linecolor": "#EBF0F8",
            "showbackground": true,
            "ticks": "",
            "zerolinecolor": "#EBF0F8"
           }
          },
          "shapedefaults": {
           "line": {
            "color": "#2a3f5f"
           }
          },
          "ternary": {
           "aaxis": {
            "gridcolor": "#DFE8F3",
            "linecolor": "#A2B1C6",
            "ticks": ""
           },
           "baxis": {
            "gridcolor": "#DFE8F3",
            "linecolor": "#A2B1C6",
            "ticks": ""
           },
           "bgcolor": "white",
           "caxis": {
            "gridcolor": "#DFE8F3",
            "linecolor": "#A2B1C6",
            "ticks": ""
           }
          },
          "title": {
           "x": 0.05
          },
          "xaxis": {
           "automargin": true,
           "gridcolor": "#EBF0F8",
           "linecolor": "#EBF0F8",
           "ticks": "",
           "title": {
            "standoff": 15
           },
           "zerolinecolor": "#EBF0F8",
           "zerolinewidth": 2
          },
          "yaxis": {
           "automargin": true,
           "gridcolor": "#EBF0F8",
           "linecolor": "#EBF0F8",
           "ticks": "",
           "title": {
            "standoff": 15
           },
           "zerolinecolor": "#EBF0F8",
           "zerolinewidth": 2
          }
         }
        },
        "title": {
         "text": "Процентное изменение RMSE относительно порога 1.0"
        },
        "xaxis": {
         "autorange": "reversed",
         "title": {
          "text": "Порог объясненной дисперсии"
         }
        },
        "yaxis": {
         "title": {
          "text": "Процентное изменение RMSE (%)"
         }
        }
       }
      }
     },
     "metadata": {},
     "output_type": "display_data"
    }
   ],
   "source": [
    "synthetic_matrices = []\n",
    "synthetic_names = []\n",
    "\n",
    "for n_features in [5, 10, 15, 20]:\n",
    "    X, y = np.random_matrix((1000, n_features)), np.random_matrix((1000, 1))\n",
    "\n",
    "    synthetic_matrices.append((X, y))\n",
    "    synthetic_names.append(f\"Synthetic (n={n_features})\")\n",
    "\n",
    "optimal_results_synthetic = analyze_test_pca(synthetic_matrices, synthetic_names)"
   ]
  }
 ],
 "metadata": {
  "kernelspec": {
   "display_name": ".venv",
   "language": "python",
   "name": "python3"
  },
  "language_info": {
   "codemirror_mode": {
    "name": "ipython",
    "version": 3
   },
   "file_extension": ".py",
   "mimetype": "text/x-python",
   "name": "python",
   "nbconvert_exporter": "python",
   "pygments_lexer": "ipython3",
   "version": "3.13.3"
  }
 },
 "nbformat": 4,
 "nbformat_minor": 2
}
